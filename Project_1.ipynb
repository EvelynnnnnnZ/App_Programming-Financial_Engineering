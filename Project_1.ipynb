{
  "cells": [
    {
      "cell_type": "markdown",
      "metadata": {
        "id": "nP7TQrzgF7wN"
      },
      "source": [
        "# <span style='color:black'>Project 1</span>\n",
        "\n",
        "In this project we use dynamic programming to create a trading schedule that maximizes total number of shares traded, under a model of liquidity impact with memory"
      ]
    },
    {
      "cell_type": "markdown",
      "metadata": {
        "id": "2clPOL4US7Rg"
      },
      "source": [
        "### Imports"
      ]
    },
    {
      "cell_type": "code",
      "execution_count": null,
      "metadata": {
        "id": "jnUYfwsKF7wT"
      },
      "outputs": [],
      "source": [
        "#from google.colab import drive\n",
        "import csv\n",
        "import sys\n",
        "import scipy.io\n",
        "import numpy as np\n",
        "import math\n",
        "import matplotlib.pyplot as plt\n",
        "import pandas as pd\n",
        "import time"
      ]
    },
    {
      "cell_type": "markdown",
      "metadata": {
        "id": "-iKa3HqvL3kw"
      },
      "source": [
        "# Task 1\n",
        "code a dynamic programming algorithm that computes an optimal schedule of trades $(n_0, n_1, \\ldots, n_{T-1})$ with the goal of maximizing the total number of traded shares\n",
        "#### Make sure that your code runs well for a range of values of $\\alpha$ and $\\pi$\n",
        "#### Compute the optimal schedule when $\\alpha = 0.001$, $\\pi = 0.5$, $N = 100000$ and $T = 10$.   Denote this schedule by $(S_0, S_1, \\ldots, S_9)$."
      ]
    },
    {
      "cell_type": "code",
      "execution_count": null,
      "metadata": {
        "id": "wEGTm5S2-jQO"
      },
      "outputs": [],
      "source": [
        "def DP2_vectorized(N, T, alpha, pi):\n",
        "    # Initialize the DP table R to store total_traded and m values for each t and traded amount.\n",
        "    R = np.zeros((T, N + 1), dtype=[('total_traded', 'i4'), ('m', 'i4')])\n",
        "\n",
        "    # Initialize the trace table to keep track of attempted trades at each step.\n",
        "    trace = np.zeros((T, N + 1), dtype='i4')\n",
        "\n",
        "    # Precompute trade factor based on alpha and pi for all possible attempt values\n",
        "    # We assume M can only exist as an integer between 0 and (0.9N+1)\n",
        "    trade_factor_cache = 1 - alpha * (np.arange(math.ceil(0.9*N) + 1) ** pi)\n",
        "\n",
        "    # Set initial values in DP table and trace for t = 0\n",
        "    attempted_trades = np.arange(N + 1)\n",
        "    m_new = np.ceil(0.1 * 0 + 0.9 * attempted_trades).astype('i4')  # m_new when no shares have been traded yet (at t = 0)\n",
        "    successfully_traded = np.ceil(trade_factor_cache[m_new] * attempted_trades).astype('i4')\n",
        "    #the successful trades in this first step are the only trades so far so total_traded=successfully_traded\n",
        "    total_traded = successfully_traded\n",
        "\n",
        "    R[0, attempted_trades] = list(zip(total_traded, m_new))\n",
        "    trace[0, attempted_trades] = attempted_trades\n",
        "\n",
        "    #for each time period moving forward\n",
        "    for t in range(1, T):\n",
        "        # Retrieve total traded and previous m value from table\n",
        "        prev_total_traded = R[t - 1]['total_traded']\n",
        "        prev_m = R[t - 1]['m']\n",
        "        for traded in range(N + 1):\n",
        "            remaining_shares = N - traded\n",
        "            max_attempted = remaining_shares  # maximum number of shares we can attempt to trade\n",
        "            attempted_trades = np.arange(max_attempted + 1)  # all possible attempted amounts\n",
        "\n",
        "            # Compute m_new on-the-fly instead of using a precomputed cache.\n",
        "            m_new = np.ceil(0.1 * prev_m[traded] + 0.9 * attempted_trades).astype('i4')\n",
        "            successfully_traded = np.ceil(trade_factor_cache[m_new] * attempted_trades).astype('i4')  # Calculate successful trades\n",
        "            total_traded_new = prev_total_traded[traded] + successfully_traded  # Calculate total successfully traded by now\n",
        "            attempted_trades_new = traded + attempted_trades  # Calculate total attempted amount\n",
        "\n",
        "            # Update table only if the new value is better (more shares successfully traded)\n",
        "            #R[t]['total_traded'][attempted_trades_new] at time t is initially a zero array on the first inner loop\n",
        "            better_indices = total_traded_new > R[t]['total_traded'][attempted_trades_new]\n",
        "            #update_indices are the indices we of which we have found a better trade schedule up to time t\n",
        "            update_indices = attempted_trades_new[better_indices]\n",
        "            R[t]['total_traded'][update_indices] = total_traded_new[better_indices]\n",
        "            R[t]['m'][update_indices] = m_new[better_indices] #the values of M at t are updated to reflect each new optimal trade schedule up to time t\n",
        "            trace[t][update_indices] = attempted_trades[better_indices]  # Store attempted trades\n",
        "\n",
        "    # Find the optimal traded amount\n",
        "    max_total_traded = R[T - 1]['total_traded'].max() #the maximum number of total shares traded (this must follow the optimal schedule for T periods)\n",
        "    final_traded = R[T - 1]['total_traded'].argmax() #this is number of shares traded successfully in the last time step of the optimal schedules\n",
        "\n",
        "    trades = []\n",
        "    successfully_traded_list = []\n",
        "    traded = final_traded\n",
        "\n",
        "    # Backtrack through trace table\n",
        "    for t in range(T - 1, -1, -1):\n",
        "        attempted_trade = trace[t][traded]  # Get number of shares attempted at time t\n",
        "        trades.append(attempted_trade)\n",
        "        m = R[t][traded]['m']  # Get value of m at time t\n",
        "        successfully_traded = math.ceil(trade_factor_cache[m] * attempted_trade)  # Calculate successful traded amount\n",
        "        successfully_traded_list.append(successfully_traded)\n",
        "        traded -= attempted_trade\n",
        "\n",
        "    # Reverse lists to get the correct order of trades and successful trades\n",
        "    trades.reverse()\n",
        "    successfully_traded_list.reverse()\n",
        "    return trades, successfully_traded_list, max_total_traded\n"
      ]
    },
    {
      "cell_type": "code",
      "execution_count": null,
      "metadata": {
        "colab": {
          "base_uri": "https://localhost:8080/"
        },
        "id": "t35oKe86WrBF",
        "outputId": "733ecd26-6a87-42a4-b940-2c9fb6e05cc5"
      },
      "outputs": [
        {
          "name": "stdout",
          "output_type": "stream",
          "text": [
            "DP2_vectorized elapsed time: 766.6871919631958 seconds\n",
            "Optimal trade schedule: [9540, 9750, 9874, 9901, 9886, 9851, 9741, 9793, 10471, 11193]\n",
            "Shares traded: [8657, 8794, 8895, 8917, 8904, 8874, 8780, 8825, 9404, 10014]\n",
            "Total shares traded: 90064\n"
          ]
        }
      ],
      "source": [
        "#Test the function\n",
        "import time\n",
        "\n",
        "start_time = time.time()\n",
        "attempted_trades, successful_trades, total_trades = DP2_vectorized(N=100000, T=10, alpha=1e-3, pi=0.5)\n",
        "end_time = time.time()\n",
        "elapsed_time = end_time - start_time\n",
        "print(f\"DP2_vectorized elapsed time: {elapsed_time} seconds\")\n",
        "print(f\"Optimal trade schedule: {attempted_trades}\")\n",
        "print(f\"Shares traded: {successful_trades}\")\n",
        "print(f\"Total shares traded: {sum(successful_trades)}\")"
      ]
    },
    {
      "cell_type": "markdown",
      "metadata": {
        "id": "n2X_XMOssmR3"
      },
      "source": [
        "## Evaluating performance/ Validating results"
      ]
    },
    {
      "cell_type": "code",
      "execution_count": null,
      "metadata": {
        "colab": {
          "base_uri": "https://localhost:8080/"
        },
        "id": "rFuw_d8nshW1",
        "outputId": "b6f65924-7db1-4da1-9cbd-2e631a348761"
      },
      "outputs": [
        {
          "name": "stdout",
          "output_type": "stream",
          "text": [
            "Planned sales schedule: [9540, 9750, 9874, 9901, 9886, 9851, 9741, 9793, 10471, 11193] ; total planned =  100000\n",
            "at time 0, M = 8586 and we trade 8657 shares\n",
            "at time 1, M = 9634 and we trade 8794 shares\n",
            "at time 2, M = 9850 and we trade 8895 shares\n",
            "at time 3, M = 9896 and we trade 8917 shares\n",
            "at time 4, M = 9887 and we trade 8904 shares\n",
            "at time 5, M = 9855 and we trade 8874 shares\n",
            "at time 6, M = 9753 and we trade 8780 shares\n",
            "at time 7, M = 9789 and we trade 8825 shares\n",
            "at time 8, M = 10403 and we trade 9404 shares\n",
            "at time 9, M = 11114 and we trade 10014 shares\n",
            "[ 8657  8794  8895  8917  8904  8874  8780  8825  9404 10014]\n",
            "total sold = 90064 i.e., as a percentage, 90.064 of the total planned.\n"
          ]
        }
      ],
      "source": [
        "M = 0\n",
        "T = 10\n",
        "N = 100000\n",
        "alpha = 1e-3\n",
        "pi = 0.5\n",
        "S = np.zeros(T,dtype='i')\n",
        "n = attempted_trades\n",
        "print(\"Planned sales schedule:\",n,\"; total planned = \",np.sum(n))\n",
        "total = 0\n",
        "for i in range(T):\n",
        "    M = math.ceil(0.1*M + 0.9*n[i])\n",
        "    S[i] = math.ceil((1 - alpha*M**pi)*n[i])\n",
        "    total += S[i]\n",
        "    print('at time %d, M = %d and we trade %d shares' %(i,M,S[i]))\n",
        "print(S)\n",
        "print('total sold =', total, \"i.e., as a percentage,\",100*np.sum(S)/np.sum(n),\"of the total planned.\")"
      ]
    },
    {
      "cell_type": "markdown",
      "metadata": {
        "id": "cxX9eMjoNSeD"
      },
      "source": [
        "As we can see, the our trade schedule has been validated by this testing framework as one that will result in the successful sale of 90064 shares"
      ]
    },
    {
      "cell_type": "markdown",
      "metadata": {
        "id": "3IqHQLv2F7wU"
      },
      "source": [
        "# Task 2.\n",
        "Test the effectiveness of this computed schedule using the first 2 hours of each day in the TSLA data </span>\n",
        "To do so, we divide the first 2 hours of each day into 12 separate intervals of ten minutes each.\n",
        "Each interval is evaluated as follows.  Suppose that the traded volume in that interval is given by the numbers $(V_0, V_1, \\ldots, V_9)$.\n",
        "Then the interval score we assign to our schedule is given by\n",
        "$$ \\sum_{i = 0}^9 \\min\\{ S_i, V_i/100 \\}.$$\n",
        "Effectively, this scheme allows us to trade up to a volume of 1% of what the market actually traded."
      ]
    },
    {
      "cell_type": "markdown",
      "metadata": {
        "id": "r5E6jz5uNnH7"
      },
      "source": [
        "## Data Preprocessing"
      ]
    },
    {
      "cell_type": "code",
      "execution_count": null,
      "metadata": {
        "id": "-pWAEjxFs7LJ"
      },
      "outputs": [],
      "source": [
        "#drive.mount('/content/drive')\n",
        "#file_path = '/content/drive/MyDrive/Applications Programming/Project 1/TSLA.csv'\n",
        "file_path = 'TSLA.csv'\n",
        "df = pd.read_csv(file_path, low_memory=False)\n",
        "\n",
        "# Dropping unnecessary columns\n",
        "df = df.iloc[:, :8]\n",
        "df.columns = df.iloc[2].values\n",
        "\n",
        "# Keeping only valid rows and dropping NA values\n",
        "df = df[3:].dropna()\n",
        "\n",
        "# Converting 'Dates' column to datetime and setting it as index\n",
        "df['Dates'] = pd.to_datetime(df['Dates'], format='%m/%d/%y %H:%M')\n",
        "df.set_index('Dates', inplace=True)\n",
        "\n",
        "# Setting appropriate data types for other columns\n",
        "columns_to_types = {\n",
        "    \"Open\": \"float\",\n",
        "    \"Close\": \"float\",\n",
        "    \"High\": \"float\",\n",
        "    \"Low\": \"float\",\n",
        "    \"Value\": \"float\",\n",
        "    \"Volume\": \"int\",\n",
        "    \"Number Ticks\": \"int\",\n",
        "}\n",
        "\n",
        "for column, dtype in columns_to_types.items():\n",
        "    df[column] = df[column].astype(dtype)"
      ]
    },
    {
      "cell_type": "markdown",
      "metadata": {
        "id": "KET4EFifNp0Z"
      },
      "source": [
        "## Scoring Implementation"
      ]
    },
    {
      "cell_type": "code",
      "execution_count": null,
      "metadata": {
        "id": "x2f766tKtSHH"
      },
      "outputs": [],
      "source": [
        "def scoring_10min(n, period, df):\n",
        "    #This block calculates the score value for each 10 minute interval\n",
        "    total = 0\n",
        "    for i in range(10):\n",
        "        #This part of the loop iterates, minute by minute, across the interval\n",
        "        timestamp = period + pd.Timedelta(minutes=i)\n",
        "        if timestamp in df.index:\n",
        "            #This part of the loop adds the score of the minute that is currently being evaluated\n",
        "            #The score is the minimum of either the attempted schedule, or 1% of the volume for the minute\n",
        "            total += min(n[i], df.loc[timestamp, 'Volume']/100)\n",
        "        else:\n",
        "            continue\n",
        "    #Returns the total value for the 10 minute period\n",
        "    return total\n",
        "\n",
        "\n",
        "def total(trades):\n",
        "    #This block calculates the score value for the entire schedule\n",
        "\n",
        "    #Here, we find the start and end times for the entire period, and then the first half, which is the part we're evaluating\n",
        "    start_date = df.index.min()\n",
        "    end_date = df.index.max()\n",
        "    mid_point = start_date + (end_date - start_date) / 2\n",
        "    half_data = df[start_date:mid_point]\n",
        "\n",
        "    total_score = 0\n",
        "    interval_count = 0\n",
        "    #This imports the trade schedule\n",
        "    n = trades\n",
        "    #This loop iterates across every day in the period we're evaluating\n",
        "    for day in pd.date_range(start=half_data.index.min(), end=half_data.index.max(), freq='B'):\n",
        "        #This defines the time period as the first 2 hours of each day, which is the part we're evaluating\n",
        "        full_time_range = pd.date_range(start=day, end=day + pd.Timedelta(hours=2), freq='T')\n",
        "\n",
        "        if df.index.isin(full_time_range).sum() == len(full_time_range):\n",
        "            #Splits the time period into 12 segments of 10 minutes\n",
        "            time_range = pd.date_range(start=day, periods=12, freq='10T')\n",
        "            #This part calls the scoring function to add the score for each 10 minute period of the day, and add them to the score for the schedule\n",
        "            for time_point in time_range:\n",
        "                total_score += scoring_10min(n, time_point, df)\n",
        "                interval_count += 1\n",
        "        else: #skips holidays (MLK, Presidents Day, Good Friday)\n",
        "            continue\n",
        "    #Averages and returns the score of the schedule by dividing by the amount of 10 minute periods in the schedule\n",
        "    average_score = total_score / interval_count if interval_count > 0 else 0\n",
        "    return average_score"
      ]
    },
    {
      "cell_type": "code",
      "execution_count": null,
      "metadata": {
        "colab": {
          "base_uri": "https://localhost:8080/",
          "height": 162
        },
        "id": "rYc8pT4CW7gb",
        "outputId": "7b97cb98-c331-4293-b625-cc3f025947ce"
      },
      "outputs": [
        {
          "name": "stdout",
          "output_type": "stream",
          "text": [
            "Average score:  8054.838296019905\n"
          ]
        }
      ],
      "source": [
        "trades = successful_trades\n",
        "print('Average score: ', total(trades))"
      ]
    },
    {
      "cell_type": "markdown",
      "metadata": {
        "id": "BELYjnppF7wV"
      },
      "source": [
        "# Task 3:</span>\n",
        "Code an algorithm that (approximately) does the following:\n",
        "#### 1. It approximately enumerates all possible values for $\\pi$ between $0.3$ and $0.7$\n",
        "#### 2. It approximately computes the value of $\\pi$ that maximizes the TOTAL SCORE, when $N = 100000$, $T = 10$ and $\\alpha = 0.001$.\n",
        "#### 3. This means that we run the DP algorithm (under the chosen value of $\\pi$) and then evaluate as above to compute the TOTAL SCORE."
      ]
    },
    {
      "cell_type": "code",
      "execution_count": null,
      "metadata": {
        "id": "kkp4ifkXR7bh",
        "outputId": "b7e903a6-5919-4633-a627-f79de3e1b486"
      },
      "outputs": [
        {
          "name": "stdout",
          "output_type": "stream",
          "text": [
            "current max score:  8056.912922885577  with pi:  0.3\n",
            "current max score:  8057.126853233835  with pi:  0.32\n",
            "current max score:  8058.450236318413  with pi:  0.34\n",
            "current max score:  8058.619390547268  with pi:  0.36\n",
            "Final best score:  8058.619390547268  for pi: 0.38\n"
          ]
        }
      ],
      "source": [
        "N=100000\n",
        "step = .02\n",
        "max_ave_score=0\n",
        "#Initialize max score to 0\n",
        "max_ave_score=0\n",
        "for i in np.arange(.3,.7+step,step):\n",
        "    pi_tmp= round(i,2)\n",
        "    #Compute the DP schedule for pi_tmp and store it in successfully_traded\n",
        "    _,successfully_traded,_=DP2_vectorized(N, T, alpha, pi_tmp)\n",
        "    #Compute the average score for this schedule\n",
        "    temp_score= total(successfully_traded)\n",
        "    #Check if the new score is greater than the previous max score and if greater save it as the new max score and save the corresponding Pi\n",
        "    if temp_score>max_ave_score:\n",
        "        max_ave_score=temp_score\n",
        "        max_pi=pi_tmp\n",
        "        #new max average score so far\n",
        "        print('current max score: ',max_ave_score,' with pi: ',max_pi)\n",
        "\n",
        "print('Final best score: ',max_ave_score,' for pi:',max_pi)"
      ]
    },
    {
      "cell_type": "code",
      "execution_count": null,
      "metadata": {
        "id": "wJZvuizlvPK0"
      },
      "outputs": [],
      "source": []
    }
  ],
  "metadata": {
    "colab": {
      "provenance": []
    },
    "kernelspec": {
      "display_name": "Python 3",
      "name": "python3"
    },
    "language_info": {
      "codemirror_mode": {
        "name": "ipython",
        "version": 3
      },
      "file_extension": ".py",
      "mimetype": "text/x-python",
      "name": "python",
      "nbconvert_exporter": "python",
      "pygments_lexer": "ipython3",
      "version": "3.10.7"
    }
  },
  "nbformat": 4,
  "nbformat_minor": 0
}
